{
 "cells": [
  {
   "cell_type": "code",
   "execution_count": null,
   "id": "1219e6f9",
   "metadata": {},
   "outputs": [],
   "source": []
  },
  {
   "cell_type": "code",
   "execution_count": 7,
   "id": "a63c8453",
   "metadata": {},
   "outputs": [],
   "source": [
    "\n",
    "import pandas as pd\n",
    "import numpy as np \n",
    "import folium\n",
    "from folium.plugins import MarkerCluster\n",
    "\n",
    "df = pd.read_csv('AB_NYC_2019.csv')\n",
    "\n",
    "def generateBaseMap(default_location=[40.693943, -73.985880]):\n",
    "    base_map = folium.Map(location=default_location)\n",
    "    return base_map\n",
    "\n",
    "base_map = generateBaseMap()\n",
    "folium.plugins.HeatMap(data=df[['latitude', 'longitude', 'price']].\n",
    "        groupby(['latitude', 'longitude']).mean().\n",
    "        reset_index().values.tolist(), radius=8, max_zoom=13).add_to(base_map)\n",
    "base_map.save('index.html')\n",
    "\n"
   ]
  },
  {
   "cell_type": "code",
   "execution_count": 33,
   "id": "98490da7",
   "metadata": {},
   "outputs": [
    {
     "name": "stderr",
     "output_type": "stream",
     "text": [
      "<ipython-input-33-47a3ec3cb5dc>:25: SettingWithCopyWarning: \n",
      "A value is trying to be set on a copy of a slice from a DataFrame.\n",
      "Try using .loc[row_indexer,col_indexer] = value instead\n",
      "\n",
      "See the caveats in the documentation: https://pandas.pydata.org/pandas-docs/stable/user_guide/indexing.html#returning-a-view-versus-a-copy\n",
      "  clean_df['price'] = clean_df['price'].astype(float)\n",
      "<ipython-input-33-47a3ec3cb5dc>:34: SettingWithCopyWarning: \n",
      "A value is trying to be set on a copy of a slice from a DataFrame.\n",
      "Try using .loc[row_indexer,col_indexer] = value instead\n",
      "\n",
      "See the caveats in the documentation: https://pandas.pydata.org/pandas-docs/stable/user_guide/indexing.html#returning-a-view-versus-a-copy\n",
      "  clean_df[scale_columns] = features\n",
      "/opt/anaconda3/lib/python3.8/site-packages/pandas/core/indexing.py:1738: SettingWithCopyWarning: \n",
      "A value is trying to be set on a copy of a slice from a DataFrame.\n",
      "Try using .loc[row_indexer,col_indexer] = value instead\n",
      "\n",
      "See the caveats in the documentation: https://pandas.pydata.org/pandas-docs/stable/user_guide/indexing.html#returning-a-view-versus-a-copy\n",
      "  self._setitem_single_column(loc, value[:, i].tolist(), pi)\n"
     ]
    },
    {
     "name": "stdout",
     "output_type": "stream",
     "text": [
      "********************************\n",
      "QUESTION 3C\n",
      "REPORTING THE AVERAGE PRICE OF NEW YORK STAYS\n",
      "********************************\n",
      "CLUSTER   AVERAGE PRICE PER NIGHT\n",
      "0               $ 90\n",
      "1               $ 108\n",
      "2               $ 223\n",
      "3               $ 99\n",
      "4               $ 6439\n"
     ]
    }
   ],
   "source": [
    "#For data manipulation\n",
    "import pandas as pd\n",
    "import numpy as np \n",
    "\n",
    "\n",
    "from sklearn.cluster import KMeans\n",
    "from sklearn import metrics \n",
    "#For scaling certain parameters\n",
    "from sklearn.preprocessing import MinMaxScaler\n",
    "from sklearn.preprocessing import StandardScaler\n",
    "import matplotlib.pyplot as graph\n",
    "\n",
    "\n",
    "\n",
    "#read the dataset\n",
    "df = pd.read_csv('AB_NYC_2019.csv')\n",
    "\n",
    "#remove all the row with the missing data values\n",
    "clean_df = df.dropna()\n",
    "\n",
    "#print(clean_df.columns)\n",
    "#print(clean_df.dtypes['price'])\n",
    "\n",
    "#Converting the price column from int to float\n",
    "clean_df['price'] = clean_df['price'].astype(float)\n",
    "\n",
    "#scaling the input parameters of the model\n",
    "#scale = MinMaxScaler()\n",
    "#clean_df[['latitude','longitude','price']] = scale.fit_transform[clean_df['latitude','longitude','price']]\n",
    "scale_columns = ['latitude' , 'longitude','price']\n",
    "features = clean_df[scale_columns]\n",
    "scaler = StandardScaler().fit(features.values)\n",
    "features = scaler.transform(features.values)\n",
    "clean_df[scale_columns] = features\n",
    "\n",
    "\n",
    "\n",
    "\n",
    "\n",
    "#Set the parameters for Kmeans Clustering\n",
    "input_parameters = clean_df[['latitude','longitude','price']]\n",
    "kmeans = KMeans(n_clusters=5, init='k-means++',n_init=10).fit(input_parameters)\n",
    "cluster_labels = kmeans.labels_\n",
    "#get the centres back from k_means\n",
    "centers = kmeans.cluster_centers_\n",
    "#Get the raw or unscled data back from the Scaled data\n",
    "centers = scaler.inverse_transform(centers)\n",
    "\n",
    "\n",
    "\n",
    "print(\"********************************\")\n",
    "print(\"QUESTION 3C\")\n",
    "print(\"REPORTING THE AVERAGE PRICE OF NEW YORK STAYS\")\n",
    "print(\"********************************\")\n",
    "print(\"CLUSTER   AVERAGE PRICE PER NIGHT\")\n",
    "\n",
    "#Print the average prices found for differnet clusters\n",
    "for i in range(5):\n",
    "    print(i ,end = \"               \" )\n",
    "    print(\"$\" , int(centers[i][2]))\n",
    "    \n",
    "\n",
    "\n",
    "\n"
   ]
  },
  {
   "cell_type": "markdown",
   "id": "2e7601e3",
   "metadata": {},
   "source": []
  },
  {
   "cell_type": "markdown",
   "id": "c76dc2e6",
   "metadata": {},
   "source": [
    "The average Price range of staying in New York ranges from $99-$6439 per night. The average price range of all the clusters is in the expected range except for thr 4the Cluster which is turns out to be on the upper side on New York. This can be confirmed by looking at the geographic location of this cluster on the map"
   ]
  }
 ],
 "metadata": {
  "kernelspec": {
   "display_name": "ravenclaw",
   "language": "python",
   "name": "ravenclaw"
  },
  "language_info": {
   "codemirror_mode": {
    "name": "ipython",
    "version": 3
   },
   "file_extension": ".py",
   "mimetype": "text/x-python",
   "name": "python",
   "nbconvert_exporter": "python",
   "pygments_lexer": "ipython3",
   "version": "3.8.8"
  }
 },
 "nbformat": 4,
 "nbformat_minor": 5
}
